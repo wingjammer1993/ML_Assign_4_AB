{
 "cells": [
  {
   "cell_type": "markdown",
   "metadata": {},
   "source": [
    "# Boosting Homework \n",
    "***\n",
    "**Name**: Amruta Rajopadhye\n",
    "***\n",
    "\n",
    "This assignment is due on Moodle by **5pm on Friday April 13th**. Submit only this Jupyter notebook to Moodle.  Do not compress it using tar, rar, zip, etc. Your solutions to analysis questions should be done in Markdown directly below the associated question.  Remember that you are encouraged to discuss the problems with your instructors and classmates, but **you must write all code and solutions on your own**.  For a refresher on the course **Collaboration Policy** click [here](https://github.com/chrisketelsen/CSCI5622-Machine-Learning/blob/master/resources/syllabus.md#collaboration-policy)\n",
    "\n"
   ]
  },
  {
   "cell_type": "markdown",
   "metadata": {},
   "source": [
    "## Overview \n",
    "***\n",
    "\n",
    "\n",
    "\n",
    "In this homework you'll implement the AdaBoost classification framework to do handwritten digit recognition. Your implementation should be based on the description of AdaBoost given in the lecture slides.\n",
    "\n",
    "<br>\n",
    "\n",
    "![digits](mnist.png \"mnist data\")\n",
    "\n",
    "\n",
    "<br>\n",
    "\n",
    "Here are the rules: \n",
    "\n",
    "- Do **NOT** use sklearn's implementation of Adaboost.  You may however use sklearn's implementation of decisions trees. \n",
    "- Do **NOT** load or use any Python packages that are not available in Anaconda 3.6. \n",
    "- Some problems with code may be autograded.  If we provide a function or class API **do not** change it.\n",
    "- Do not change the location of the data or data directory.  Use only relative paths to access the data. "
   ]
  },
  {
   "cell_type": "code",
   "execution_count": 367,
   "metadata": {
    "ExecuteTime": {
     "end_time": "2018-04-02T09:58:16.624747Z",
     "start_time": "2018-04-02T09:58:15.916585Z"
    }
   },
   "outputs": [],
   "source": [
    "import numpy as np\n",
    "from sklearn.tree import DecisionTreeClassifier\n",
    "from sklearn.base import clone \n",
    "import matplotlib.pylab as plt\n",
    "import math\n",
    "%matplotlib inline "
   ]
  },
  {
   "cell_type": "markdown",
   "metadata": {},
   "source": [
    "### [5 points] Problem 1\n",
    "***\n",
    "\n",
    "Since we'll be working with binary classifiers, we'll look at the subset of the MNIST data pertaining to handwritten three's and eights. Note that we'll also be using a lower-res version of the MNIST data used in the KNN homework. The class below will load, parse, and store the subset of the. Load the data and then report: \n",
    "\n",
    "- The number of examples in the training set \n",
    "- The number of examples in the validation set \n",
    "- The number of pixels in each image. "
   ]
  },
  {
   "cell_type": "code",
   "execution_count": 368,
   "metadata": {
    "ExecuteTime": {
     "end_time": "2018-04-02T09:58:18.840016Z",
     "start_time": "2018-04-02T09:58:18.805889Z"
    }
   },
   "outputs": [],
   "source": [
    "class ThreesAndEights:\n",
    "    \"\"\"\n",
    "    Class to store MNIST data\n",
    "    \"\"\"\n",
    "\n",
    "    def __init__(self, location):\n",
    "\n",
    "        import pickle, gzip\n",
    "\n",
    "        # Load the dataset\n",
    "        f = gzip.open(location, 'rb')\n",
    "\n",
    "        # Split the data set \n",
    "        X_train, y_train, X_valid, y_valid = pickle.load(f)\n",
    "\n",
    "        # Extract only 3's and 8's for training set \n",
    "        self.X_train = X_train[np.logical_or( y_train==3, y_train == 8), :]\n",
    "        self.y_train = y_train[np.logical_or( y_train==3, y_train == 8)]\n",
    "        self.y_train = np.array([1 if y == 8 else -1 for y in self.y_train])\n",
    "        \n",
    "        # Shuffle the training data \n",
    "        shuff = np.arange(self.X_train.shape[0])\n",
    "        np.random.shuffle(shuff)\n",
    "        self.X_train = self.X_train[shuff,:]\n",
    "        self.y_train = self.y_train[shuff]\n",
    "\n",
    "        # Extract only 3's and 8's for validation set \n",
    "        self.X_valid = X_valid[np.logical_or( y_valid==3, y_valid == 8), :]\n",
    "        self.y_valid = y_valid[np.logical_or( y_valid==3, y_valid == 8)]\n",
    "        self.y_valid = np.array([1 if y == 8 else -1 for y in self.y_valid])\n",
    "        \n",
    "        f.close()"
   ]
  },
  {
   "cell_type": "code",
   "execution_count": 369,
   "metadata": {
    "ExecuteTime": {
     "end_time": "2018-04-02T09:58:19.740678Z",
     "start_time": "2018-04-02T09:58:19.609721Z"
    }
   },
   "outputs": [
    {
     "name": "stdout",
     "output_type": "stream",
     "text": [
      "Number of examples in training set -\n",
      "2000\n",
      "Number of examples in test set -\n",
      "500\n",
      "Number of pixels in each image -\n",
      "441\n"
     ]
    }
   ],
   "source": [
    "data = ThreesAndEights(\"data/mnist21x21_3789.pklz\")\n",
    "print(\"Number of examples in training set -\")\n",
    "print(len(data.X_train))\n",
    "\n",
    "# Number of examples in the test set\n",
    "print(\"Number of examples in test set -\")\n",
    "print(len(data.X_valid))\n",
    "\n",
    "# Number of pixels in each image.\n",
    "print(\"Number of pixels in each image -\")\n",
    "print(data.X_train.shape[-1])"
   ]
  },
  {
   "cell_type": "markdown",
   "metadata": {},
   "source": [
    "### [20 points] Problem 2: Implementing AdaBoost  \n",
    "***\n",
    "\n",
    "We've given you a skeleton of the class `AdaBoost` below which will train a classifier based on boosted shallow decision trees as implemented by sklearn. Take a look at the class skeleton first so that you understand the underlying organization and data structures that we'll be using.  "
   ]
  },
  {
   "cell_type": "code",
   "execution_count": 370,
   "metadata": {
    "ExecuteTime": {
     "end_time": "2018-04-02T09:58:23.101470Z",
     "start_time": "2018-04-02T09:58:23.016833Z"
    }
   },
   "outputs": [],
   "source": [
    "class AdaBoost:\n",
    "    def __init__(self, n_learners=20, base=DecisionTreeClassifier(max_depth=1), random_state=1234):\n",
    "        \"\"\"\n",
    "        Create a new adaboost classifier.\n",
    "        \n",
    "        Args:\n",
    "            N (int, optional): Number of weak learners in classifier.\n",
    "            base (BaseEstimator, optional): Your general weak learner \n",
    "            random_state (int, optional): set random generator.  needed for unit testing. \n",
    "\n",
    "        Attributes:\n",
    "            base (estimator): Your general weak learner \n",
    "            n_learners (int): Number of weak learners in classifier.\n",
    "            alpha (ndarray): Coefficients on weak learners. \n",
    "            learners (list): List of weak learner instances. \n",
    "        \"\"\"\n",
    "        \n",
    "        np.random.seed(random_state)\n",
    "        \n",
    "        self.n_learners = n_learners \n",
    "        self.base = base\n",
    "        self.alpha = np.zeros(self.n_learners)\n",
    "        self.learners = []\n",
    "        \n",
    "        \n",
    "    def fit(self, X_train, y_train):\n",
    "        \"\"\"\n",
    "        Train AdaBoost classifier on data. Sets alphas and learners. \n",
    "        \n",
    "        Args:\n",
    "            X_train (ndarray): [n_samples x n_features] ndarray of training data   \n",
    "            y_train (ndarray): [n_samples] ndarray of data \n",
    "        \"\"\"      \n",
    "        w = np.ones(len(y_train))\n",
    "        for k in range(0, self.n_learners):\n",
    "            h = clone(self.base)\n",
    "            h.fit(X_train, y_train, sample_weight=w)\n",
    "            self.learners.append(h)\n",
    "            error = 1 - h.score(X_train, y_train, sample_weight=w)\n",
    "            self.alpha[k] = 0.5*math.log((1-error)/error)\n",
    "            # reconfigure weights\n",
    "            for i in range(0, len(w)):               \n",
    "                w[i] = w[i]*math.exp(-self.alpha[k]*y_train[i]*h.predict(X_train[i].reshape(1, -1)))\n",
    "            w = w / np.sum(w)              \n",
    "\n",
    "            \n",
    "    def predict(self, X):\n",
    "        \"\"\"\n",
    "        Adaboost prediction for new data X.\n",
    "        \n",
    "        Args:\n",
    "            X (ndarray): [n_samples x n_features] ndarray of data \n",
    "            \n",
    "        Returns: \n",
    "            yhat (ndarray): [n_samples] ndarray of predicted labels {-1,1}\n",
    "        \"\"\"\n",
    "        yhat = np.ones(X.shape[0])\n",
    "        for idy, test in enumerate(X):\n",
    "            score = 0\n",
    "            for idx, h in enumerate(self.learners):\n",
    "                score = score + self.alpha[idx]*h.predict(test.reshape(1, -1))\n",
    "            if score < 0:\n",
    "                yhat[idy] = -1\n",
    "                \n",
    "        return yhat         \n",
    "                       \n",
    "    \n",
    "    def score(self, X, y):\n",
    "        \"\"\"\n",
    "        Computes prediction accuracy of classifier.  \n",
    "        \n",
    "        Args:\n",
    "            X (ndarray): [n_samples x n_features] ndarray of data \n",
    "            y (ndarray): [n_samples] ndarray of true labels  \n",
    "            \n",
    "        Returns: \n",
    "            Prediction accuracy (between 0.0 and 1.0).\n",
    "        \"\"\"\n",
    "\n",
    "        yhats = self.predict(X)\n",
    "        accuracy = 0\n",
    "        for idx, yhat in enumerate(yhats):\n",
    "            if yhat == y[idx]:\n",
    "                accuracy +=1\n",
    "        accuracy = accuracy / len(y)          \n",
    "        return accuracy\n",
    "        \n",
    "    \n",
    "    def staged_score(self, X, y):\n",
    "        \"\"\"\n",
    "        Computes the ensemble score after each iteration of boosting \n",
    "        for monitoring purposes, such as to determine the score on a \n",
    "        test set after each boost.\n",
    "        \n",
    "        Args:\n",
    "            X (ndarray): [n_samples x n_features] ndarray of data \n",
    "            y (ndarray): [n_samples] ndarray of true labels  \n",
    "            \n",
    "        Returns: \n",
    "            scores (ndarary): [n_learners] ndarray of scores \n",
    "        \"\"\"\n",
    "        staged_score = np.zeros(self.n_learners)\n",
    "        prev_score = np.zeros(len(X))\n",
    "        for i in range(0, self.n_learners):\n",
    "            scores = np.zeros(len(X))\n",
    "            accuracy = 0       \n",
    "            for idx, test in enumerate(X):\n",
    "                predict = 1\n",
    "                score = self.alpha[i]*self.learners[i].predict(test.reshape(1, -1))\n",
    "                prev_score[idx] = score + prev_score[idx]\n",
    "                if prev_score[idx] < 0:\n",
    "                    predict = -1\n",
    "                if predict == y[idx]:\n",
    "                    accuracy += 1\n",
    "            accuracy = accuracy / len(y)  \n",
    "            staged_score[i] = accuracy\n",
    "        return staged_score\n",
    "  \n",
    "\n",
    "    def staged_margin(self, x, y):\n",
    "        \"\"\"\n",
    "        Computes the staged margin after each iteration of boosting \n",
    "        for a single training example x and true label y\n",
    "        \n",
    "        Args:\n",
    "            x (ndarray): [n_features] ndarray of data \n",
    "            y (integer): an integer {-1,1} representing the true label of x \n",
    "            \n",
    "        Returns: \n",
    "            margins (ndarary): [n_learners] ndarray of margins \n",
    "        \"\"\"\n",
    "        alpha_correct = 0\n",
    "        alpha_incorrect = 0\n",
    "        score = 0\n",
    "        alphas = self.alpha/np.sum(self.alpha)\n",
    "        margins = np.zeros(self.n_learners)       \n",
    "        for i in range(0, self.n_learners):\n",
    "            accuracy = 0       \n",
    "            predict = 1\n",
    "            score = score + self.alpha[i]*self.learners[i].predict(x.reshape(1, -1))\n",
    "            if score < 0:\n",
    "                predict = -1\n",
    "            if predict == y:\n",
    "                alpha_correct = alpha_correct + alphas[i]\n",
    "            else:\n",
    "                alpha_incorrect = alpha_incorrect + alphas[i]\n",
    "            margins[i] = alpha_correct - alpha_incorrect    \n",
    "        return margins\n",
    "        \n",
    "        \n",
    "        "
   ]
  },
  {
   "cell_type": "markdown",
   "metadata": {},
   "source": [
    "Recall that the model we attempt to learn in AdaBoost is given by \n",
    "\n",
    "$$\n",
    "H({\\bf x}) = \\textrm{sign}\\left[\\displaystyle\\sum_{k=1}^K\\alpha_k h_k({\\bf x}) \\right]\n",
    "$$\n",
    "\n",
    "where $h_k({\\bf x})$ is the $k^\\textrm{th}$ weak learner and $\\alpha_k$ is it's associated ensemble coefficient.  \n",
    "\n",
    "**Part A**: Implement the `fit` method to learn the sequence of weak learners $\\left\\{h_k({\\bf x})\\right\\}_{k=1}^K$ and corresponding coefficients $\\left\\{ \\alpha_k\\right\\}_{k=1}^K$. Note that you may use sklearn's implementation of DecisionTreeClassifier as your weak learner which allows you to pass as an optional parameter the weights associated with each training example.  An example of instantiating and training a single learner is given in the comments of the `fit` method.  \n",
    "\n",
    "When you think you're done, run the following unit tests which corresponds to the AdaBoost example given in the lecture slides. \n"
   ]
  },
  {
   "cell_type": "code",
   "execution_count": 371,
   "metadata": {
    "ExecuteTime": {
     "end_time": "2018-04-02T09:58:25.957948Z",
     "start_time": "2018-04-02T09:58:25.948471Z"
    }
   },
   "outputs": [
    {
     "name": "stderr",
     "output_type": "stream",
     "text": [
      "test_alphas (__main__.TestBoost) ... ok\n",
      "\n",
      "----------------------------------------------------------------------\n",
      "Ran 1 test in 0.011s\n",
      "\n",
      "OK\n"
     ]
    }
   ],
   "source": [
    "%run -i tests.py \"part A\""
   ]
  },
  {
   "cell_type": "markdown",
   "metadata": {},
   "source": [
    "**Part B**: After your `fit` method is working properly, implement the `predict` method to make predictions for unseen examples stored in a data matrix ${\\bf X}$.  \n",
    "\n",
    "**Note**: Remember that AdaBoost assumes that your predictions are of the form $y \\in \\{-1, 1\\}$. \n",
    "\n",
    "When you think you're done, run the following unit tests which corresponds to the AdaBoost example given in the lecture slides. "
   ]
  },
  {
   "cell_type": "code",
   "execution_count": 372,
   "metadata": {
    "ExecuteTime": {
     "end_time": "2018-04-02T09:58:29.697855Z",
     "start_time": "2018-04-02T09:58:29.689876Z"
    }
   },
   "outputs": [
    {
     "name": "stderr",
     "output_type": "stream",
     "text": [
      "test_prediction (__main__.TestBoost) ... ok\n",
      "\n",
      "----------------------------------------------------------------------\n",
      "Ran 1 test in 0.012s\n",
      "\n",
      "OK\n"
     ]
    }
   ],
   "source": [
    "%run -i tests.py \"part B\""
   ]
  },
  {
   "cell_type": "markdown",
   "metadata": {},
   "source": [
    "**Part C**: Next, implement the `score` method which takes in a matrix of examples ${\\bf X}$ and their associated true labels ${\\bf y}$, makes predictions, and returns the classification accuracy.   \n",
    "\n",
    "When you think you're done, run the following unit tests. "
   ]
  },
  {
   "cell_type": "code",
   "execution_count": 373,
   "metadata": {
    "ExecuteTime": {
     "end_time": "2018-04-02T09:58:32.327702Z",
     "start_time": "2018-04-02T09:58:32.320424Z"
    }
   },
   "outputs": [
    {
     "name": "stderr",
     "output_type": "stream",
     "text": [
      "test_score (__main__.TestBoost) ... ok\n",
      "\n",
      "----------------------------------------------------------------------\n",
      "Ran 1 test in 0.012s\n",
      "\n",
      "OK\n"
     ]
    }
   ],
   "source": [
    "%run -i tests.py \"part C\""
   ]
  },
  {
   "cell_type": "markdown",
   "metadata": {},
   "source": [
    "**Part D**: Finally, implement the `staged_score` method to return an array of prediction accuracies after each iteration of the AdaBoost algorithm.  That is, the staged score array ${\\bf s}$ is defined such that ${\\bf s}_\\ell$ is the prediction accuracy using only the first $\\ell$ weak learners.  This function is primarily used as a diagnostic tool for analyzing the performance of your classifier during the training process.  \n",
    "\n",
    "**Note**: This method can be implemented in a very efficient or very **in**efficient matter.  Be sure to think about this a bit before diving in. \n",
    "\n",
    "\n",
    "When you think you're done, run the following unit tests. "
   ]
  },
  {
   "cell_type": "code",
   "execution_count": 374,
   "metadata": {
    "ExecuteTime": {
     "end_time": "2018-04-02T09:58:36.952096Z",
     "start_time": "2018-04-02T09:58:36.944919Z"
    },
    "scrolled": false
   },
   "outputs": [
    {
     "name": "stderr",
     "output_type": "stream",
     "text": [
      "test_staged_score (__main__.TestBoost) ... ok\n",
      "\n",
      "----------------------------------------------------------------------\n",
      "Ran 1 test in 0.013s\n",
      "\n",
      "OK\n"
     ]
    }
   ],
   "source": [
    "%run -i tests.py \"part D\""
   ]
  },
  {
   "cell_type": "markdown",
   "metadata": {},
   "source": [
    "### [10 points] Problem 3: AdaBoost for Handwritten Digit Recognition \n",
    "***\n",
    "\n",
    "Use your AdaBoost code with Sklearn's DecisionTreeClassifier as the base learner to distinguish $3$'s from $8$'s. \n",
    "Run $n=500$ boosting iterations with trees of depths 1, 2, and 3 (go deeper if you like) as the weak learner. For each weak learner, plot the training and validation error per boosting iteration (on the same set of axes). Compare and contrast the different weak learners. Which works the best? Do you see signs of overfitting? Do any of classifiers achieve nearly 100% accuracy on the training data? What happens to the accuracy on the validation data on further iterations?"
   ]
  },
  {
   "cell_type": "code",
   "execution_count": 375,
   "metadata": {},
   "outputs": [
    {
     "data": {
      "image/png": "[encoded data removed]",
      "text/plain": [
       "<matplotlib.figure.Figure at 0x33661d0>"
      ]
     },
     "metadata": {},
     "output_type": "display_data"
    }
   ],
   "source": [
    "AdaBoost_clf1 = AdaBoost(n_learners=500, base=DecisionTreeClassifier(max_depth=1))\n",
    "AdaBoost_clf1.fit(data.X_train, data.y_train)\n",
    "training_error1 = AdaBoost_clf1.staged_score(data.X_train, data.y_train)\n",
    "validation_error1 = AdaBoost_clf1.staged_score(data.X_valid, data.y_valid)\n",
    "plt.plot(training_error1, color = \"green\")\n",
    "plt.plot(validation_error1, color =\"red\")\n",
    "plt.xlabel(\"iterations\")\n",
    "plt.ylabel(\"accuracy\")\n",
    "plt.title(\"depth = 1\")\n",
    "plt.show()"
   ]
  },
  {
   "cell_type": "code",
   "execution_count": 376,
   "metadata": {},
   "outputs": [
    {
     "data": {
      "image/png": "[encoded data removed]",
      "text/plain": [
       "<matplotlib.figure.Figure at 0x3329170>"
      ]
     },
     "metadata": {},
     "output_type": "display_data"
    }
   ],
   "source": [
    "AdaBoost_clf2 = AdaBoost(n_learners=500, base=DecisionTreeClassifier(max_depth=2))\n",
    "AdaBoost_clf2.fit(data.X_train, data.y_train)\n",
    "training_error2 = AdaBoost_clf2.staged_score(data.X_train, data.y_train)\n",
    "validation_error2 = AdaBoost_clf2.staged_score(data.X_valid, data.y_valid)\n",
    "plt.plot(training_error2, color = \"green\")\n",
    "plt.plot(validation_error2, color =\"red\")\n",
    "plt.xlabel(\"iterations\")\n",
    "plt.ylabel(\"accuracy\")\n",
    "plt.title(\"depth = 2\")\n",
    "plt.show()"
   ]
  },
  {
   "cell_type": "code",
   "execution_count": 377,
   "metadata": {},
   "outputs": [
    {
     "data": {
      "image/png": "[encoded data removed]",
      "text/plain": [
       "<matplotlib.figure.Figure at 0x3338130>"
      ]
     },
     "metadata": {},
     "output_type": "display_data"
    }
   ],
   "source": [
    "AdaBoost_clf3 = AdaBoost(n_learners=500, base=DecisionTreeClassifier(max_depth=3))\n",
    "AdaBoost_clf3.fit(data.X_train, data.y_train)\n",
    "training_error3 = AdaBoost_clf3.staged_score(data.X_train, data.y_train)\n",
    "validation_error3 = AdaBoost_clf3.staged_score(data.X_valid, data.y_valid)\n",
    "plt.plot(training_error3, color = \"green\")\n",
    "plt.plot(validation_error3, color =\"red\")\n",
    "plt.xlabel(\"iterations\")\n",
    "plt.ylabel(\"accuracy\")\n",
    "plt.title(\"depth = 3\")\n",
    "plt.show()"
   ]
  },
  {
   "cell_type": "code",
   "execution_count": 378,
   "metadata": {},
   "outputs": [
    {
     "data": {
      "image/png": "[encoded data removed]",
      "text/plain": [
       "<matplotlib.figure.Figure at 0x8687e10>"
      ]
     },
     "metadata": {},
     "output_type": "display_data"
    }
   ],
   "source": [
    "AdaBoost_clf3 = AdaBoost(n_learners=2000, base=DecisionTreeClassifier(max_depth=3))\n",
    "AdaBoost_clf3.fit(data.X_train, data.y_train)\n",
    "training_error3 = AdaBoost_clf3.staged_score(data.X_train, data.y_train)\n",
    "validation_error3 = AdaBoost_clf3.staged_score(data.X_valid, data.y_valid)\n",
    "plt.plot(training_error3, color = \"green\")\n",
    "plt.plot(validation_error3, color =\"red\")\n",
    "plt.xlabel(\"iterations\")\n",
    "plt.ylabel(\"accuracy\")\n",
    "plt.title(\"depth = 3\")\n",
    "plt.show()"
   ]
  },
  {
   "cell_type": "markdown",
   "metadata": {},
   "source": [
    "Which works the best? \n",
    "The classifier with max_depth of base works the best, it gives an accuracy of around 98%\n",
    "\n",
    "Do you see signs of overfitting? \n",
    "No, there is no increase in test error as training error goes down, so overfitting is not observed.\n",
    "\n",
    "Do any of classifiers achieve nearly 100% accuracy on the training data?\n",
    "All classifiers achieve 100% on training data, max_depth = 1 takes more number of iterations than max_depth = 3\n",
    "\n",
    "What happens to the accuracy on the validation data on further iterations?\n",
    "The accuracy on validation set reaches a stable value and does not increase beyond 98%"
   ]
  },
  {
   "cell_type": "markdown",
   "metadata": {},
   "source": [
    "### [15 points] Problem 4: AdaBoost as a Margin-Maximizing Model \n",
    "***\n",
    "\n",
    "Despite the fact that we're making our model more complex with the addition of each weak learner, AdaBoost does not typically overfit the training data. The reason for this is that the model becomes more _confident_ with each boosting iteration. This _confidence_ can be interpreted mathematically as a margin. Recall that after $K$ iterations the algorithm terminates with the classifier \n",
    "\n",
    "$$\n",
    "H({\\bf x}) = \\textrm{sign}\\left[\\displaystyle\\sum_{k=1}^K\\alpha_k h_k({\\bf x}) \\right]\n",
    "$$\n",
    "\n",
    "Similarly, we can define the intermediate classifier $H_\\ell$ by \n",
    "\n",
    "$$\n",
    "H_\\ell({\\bf x}) = \\textrm{sign}\\left[\\displaystyle\\sum_{k=1}^\\ell\\alpha_k h_k({\\bf x}) \\right]\n",
    "$$\n",
    "\n",
    "where $\\ell \\leq K$. Note that in either case the model returns predictions of the form $y \\in \\{-1, 1\\}$ which does not give us any indication of the model's confidence in a prediction. Define the normalized coefficients $\\hat{\\alpha}_k$ as follows: \n",
    "\n",
    "$$\n",
    "\\hat{\\alpha}_k = \\dfrac{\\alpha_k}{\\sum_{t=1}^K \\alpha_k}\n",
    "$$\n",
    "\n",
    "Define the margin of a training example ${\\bf x}$ after $\\ell$ iterations as the sum of the normalized coefficients of weak learners that vote correctly minus the sum of the normalized coefficients of the weak learners that vote incorrectly: \n",
    "\n",
    "$$\n",
    "\\textrm{margin}_\\ell ({\\bf x}) = \\sum_{k=1:~h_k({\\bf x}) = y}^\\ell \\hat{\\alpha}_k - \\sum_{k=1:~h_k({\\bf x}) \\neq y}^\\ell \\hat{\\alpha}_k \n",
    "$$\n",
    "\n",
    "**Part A**: Briefly explain mathematically how $\\textrm{margin}_\\ell({\\bf x})$ can be interpreted as a margin.  **Hint**: You'll want to think back on what we meant by a _margin_ in our discussion of Support Vector Machines. "
   ]
  },
  {
   "cell_type": "markdown",
   "metadata": {
    "collapsed": true
   },
   "source": [
    "In SVM, Margin refers to the distance between decision boundary and support vectors. In the hard-margin SVMs, A large margin means that the examples are well seperated and the classifier can confidently perform classification, A smaller margin means that the examples are not as well seperated and increases the chances of misclassification. In Boosting, This intuition can be translated in terms of equation given above, If margin_l(x) is high, that means the example is not very close to the decision boundary and hence has a high confidence measure whereas if margin_l(x) is low, it means that the example is close to the decision boundary and hence the classifier has a lower confidence."
   ]
  },
  {
   "cell_type": "markdown",
   "metadata": {},
   "source": [
    "**Part B**: Complete the `staged_margin` method in the `AdaBoost` class above so that it computes the margin for a single training example ${\\bf x}$ after each boosting iteration. "
   ]
  },
  {
   "cell_type": "code",
   "execution_count": null,
   "metadata": {},
   "outputs": [],
   "source": [
    "AdaBoost_clf = AdaBoost(n_learners=50, base=DecisionTreeClassifier(max_depth=1))\n",
    "AdaBoost_clf.fit(data.X_train, data.y_train)\n",
    "margin = AdaBoost_clf.staged_margin(data.X_valid[0], data.y_valid[0])\n",
    "print(margin)"
   ]
  },
  {
   "cell_type": "markdown",
   "metadata": {},
   "source": [
    "**Part C**: Find four **training** examples from the MNIST that meet the following criteria: \n",
    "\n",
    "- one $3$ that AdaBoost can classify easily  \n",
    "- one $8$ that AdaBoost can classify easily  \n",
    "- one $3$ that AdaBoost has difficulty with \n",
    "- one $8$ that AdaBoost has difficulty with \n",
    "\n",
    "Use the `view_digit` function given below to display the four examples that you found. \n",
    "\n",
    "**Advice**: Since AdaBoost will likely classify **all** training examples correctly given enough boosting iterations, you might try fitting an AdaBoost classifier with just a handful of boosting iterations and use it to identify examples of each desired type. "
   ]
  },
  {
   "cell_type": "code",
   "execution_count": null,
   "metadata": {
    "ExecuteTime": {
     "end_time": "2018-04-02T09:59:01.257421Z",
     "start_time": "2018-04-02T09:59:01.068539Z"
    }
   },
   "outputs": [],
   "source": [
    "def view_digit(example, label=None):\n",
    "    if label: print(\"true label: {:d}\".format(label))\n",
    "    plt.imshow(example.reshape(21,21), cmap='gray');\n",
    "    \n",
    "view_digit(data.X_train[0,:], data.y_train[0])"
   ]
  },
  {
   "cell_type": "code",
   "execution_count": null,
   "metadata": {},
   "outputs": [],
   "source": [
    "AdaBoost_clf = AdaBoost(n_learners=3, base=DecisionTreeClassifier(max_depth=1))\n",
    "AdaBoost_clf.fit(data.X_train, data.y_train)"
   ]
  },
  {
   "cell_type": "code",
   "execution_count": null,
   "metadata": {},
   "outputs": [],
   "source": [
    "print('Correctly classified')\n",
    "view_digit(data.X_valid[2,:], data.y_valid[2])"
   ]
  },
  {
   "cell_type": "code",
   "execution_count": null,
   "metadata": {},
   "outputs": [],
   "source": [
    "print('Correctly classified')\n",
    "view_digit(data.X_valid[1,:], data.y_valid[1])"
   ]
  },
  {
   "cell_type": "code",
   "execution_count": null,
   "metadata": {},
   "outputs": [],
   "source": [
    "print('Incorrectly classified')\n",
    "view_digit(data.X_valid[52,:], data.y_valid[6])"
   ]
  },
  {
   "cell_type": "code",
   "execution_count": null,
   "metadata": {},
   "outputs": [],
   "source": [
    "print('Incorrectly classified')\n",
    "view_digit(data.X_valid[149,:], data.y_valid[5])"
   ]
  },
  {
   "cell_type": "markdown",
   "metadata": {},
   "source": [
    "**Part D**: Using an AdaBoost classifier with at least $K=200$ depth-1 decision trees as the weak learners, plot the staged margin for each of the four examples that you found in **Part C** on the same set of axes. (Be sure to include a legend so we can tell which staged margin corresponds to which example).  Explain your results in terms of the margin of the classifier on each training examples.  More broadly, how the margin-maximizing property might allow AdaBoost to continue improving generalization even after the error on the training set reaches zero.  \n"
   ]
  },
  {
   "cell_type": "code",
   "execution_count": null,
   "metadata": {},
   "outputs": [],
   "source": [
    "AdaBoost_clf = AdaBoost(n_learners=200, base=DecisionTreeClassifier(max_depth=1))\n",
    "AdaBoost_clf.fit(data.X_train, data.y_train)\n",
    "accuracy = AdaBoost_clf.score(data.X_valid, data.y_valid)\n",
    "print(accuracy)\n",
    "margin_1 = AdaBoost_clf.staged_margin(data.X_valid[2], data.y_valid[2])\n",
    "margin_2 = AdaBoost_clf.staged_margin(data.X_valid[1], data.y_valid[1])\n",
    "margin_3 = AdaBoost_clf.staged_margin(data.X_valid[52], data.y_valid[52])\n",
    "margin_4 = AdaBoost_clf.staged_margin(data.X_valid[159], data.y_valid[149])\n",
    "plt.plot(margin_1, label=\"correctly classified 8\")\n",
    "plt.plot(margin_2, label=\"correctly classified 3\")\n",
    "plt.plot(margin_3, label=\"incorrectly classified 8\")\n",
    "plt.plot(margin_4, label=\"incorrectly classified 3\")\n",
    "plt.legend()\n",
    "plt.show()"
   ]
  }
 ],
 "metadata": {
  "kernelspec": {
   "display_name": "Python 3",
   "language": "python",
   "name": "python3"
  },
  "language_info": {
   "codemirror_mode": {
    "name": "ipython",
    "version": 3
   },
   "file_extension": ".py",
   "mimetype": "text/x-python",
   "name": "python",
   "nbconvert_exporter": "python",
   "pygments_lexer": "ipython3",
   "version": "3.6.2"
  }
 },
 "nbformat": 4,
 "nbformat_minor": 2
}
